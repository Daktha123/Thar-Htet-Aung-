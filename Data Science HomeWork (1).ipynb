{
 "cells": [
  {
   "cell_type": "code",
   "execution_count": 1,
   "id": "4cb8c849",
   "metadata": {},
   "outputs": [],
   "source": [
    "import pandas as pd\n",
    "import matplotlib.pyplot as plt\n",
    "\n",
    "\n",
    "import seaborn as sns\n",
    "import numpy as np\n",
    "import warnings\n",
    "import statistics \n",
    "\n",
    "warnings.filterwarnings('ignore')\n",
    "#Show graphs withint Python notebook\n",
    "\n",
    "%matplotlib inline"
   ]
  },
  {
   "cell_type": "code",
   "execution_count": 2,
   "id": "141ad496",
   "metadata": {},
   "outputs": [
    {
     "data": {
      "text/plain": [
       "Index(['No.', 'announce_date', 'Notified date', 'sex', 'age', 'Unit',\n",
       "       'nationality', 'province_of_isolation', 'risk', 'province_of_onset',\n",
       "       'district_of_onset'],\n",
       "      dtype='object')"
      ]
     },
     "execution_count": 2,
     "metadata": {},
     "output_type": "execute_result"
    }
   ],
   "source": [
    "df = pd.read_csv('confirmed-cases-since-271064.csv')\n",
    "df.columns #list columns' names"
   ]
  },
  {
   "cell_type": "code",
   "execution_count": 3,
   "id": "95147fdb",
   "metadata": {},
   "outputs": [
    {
     "data": {
      "text/html": [
       "<div>\n",
       "<style scoped>\n",
       "    .dataframe tbody tr th:only-of-type {\n",
       "        vertical-align: middle;\n",
       "    }\n",
       "\n",
       "    .dataframe tbody tr th {\n",
       "        vertical-align: top;\n",
       "    }\n",
       "\n",
       "    .dataframe thead th {\n",
       "        text-align: right;\n",
       "    }\n",
       "</style>\n",
       "<table border=\"1\" class=\"dataframe\">\n",
       "  <thead>\n",
       "    <tr style=\"text-align: right;\">\n",
       "      <th></th>\n",
       "      <th>No.</th>\n",
       "      <th>announce_date</th>\n",
       "      <th>Notified date</th>\n",
       "      <th>sex</th>\n",
       "      <th>age</th>\n",
       "      <th>Unit</th>\n",
       "      <th>nationality</th>\n",
       "      <th>province_of_isolation</th>\n",
       "      <th>risk</th>\n",
       "      <th>province_of_onset</th>\n",
       "      <th>district_of_onset</th>\n",
       "    </tr>\n",
       "  </thead>\n",
       "  <tbody>\n",
       "    <tr>\n",
       "      <th>0</th>\n",
       "      <td>1859158</td>\n",
       "      <td>26/10/2021</td>\n",
       "      <td>25/10/2021</td>\n",
       "      <td>ชาย</td>\n",
       "      <td>20.0</td>\n",
       "      <td>ปี</td>\n",
       "      <td>Thailand</td>\n",
       "      <td>ลำปาง</td>\n",
       "      <td>อื่นๆ</td>\n",
       "      <td>ลำปาง</td>\n",
       "      <td>เมืองลำปาง</td>\n",
       "    </tr>\n",
       "    <tr>\n",
       "      <th>1</th>\n",
       "      <td>1859159</td>\n",
       "      <td>26/10/2021</td>\n",
       "      <td>25/10/2021</td>\n",
       "      <td>หญิง</td>\n",
       "      <td>42.0</td>\n",
       "      <td>ปี</td>\n",
       "      <td>Thailand</td>\n",
       "      <td>ลำปาง</td>\n",
       "      <td>อื่นๆ</td>\n",
       "      <td>ลำปาง</td>\n",
       "      <td>เมืองลำปาง</td>\n",
       "    </tr>\n",
       "    <tr>\n",
       "      <th>2</th>\n",
       "      <td>1859160</td>\n",
       "      <td>26/10/2021</td>\n",
       "      <td>25/10/2021</td>\n",
       "      <td>หญิง</td>\n",
       "      <td>33.0</td>\n",
       "      <td>ปี</td>\n",
       "      <td>Thailand</td>\n",
       "      <td>ลำปาง</td>\n",
       "      <td>ไปสถานที่ชุมชน เช่น ตลาดนัด สถานที่ท่องเที่ยว</td>\n",
       "      <td>ลำปาง</td>\n",
       "      <td>ห้างฉัตร</td>\n",
       "    </tr>\n",
       "    <tr>\n",
       "      <th>3</th>\n",
       "      <td>1859161</td>\n",
       "      <td>26/10/2021</td>\n",
       "      <td>25/10/2021</td>\n",
       "      <td>หญิง</td>\n",
       "      <td>52.0</td>\n",
       "      <td>ปี</td>\n",
       "      <td>Thailand</td>\n",
       "      <td>ลำปาง</td>\n",
       "      <td>ไปสถานที่ชุมชน เช่น ตลาดนัด สถานที่ท่องเที่ยว</td>\n",
       "      <td>ลำปาง</td>\n",
       "      <td>ห้างฉัตร</td>\n",
       "    </tr>\n",
       "    <tr>\n",
       "      <th>4</th>\n",
       "      <td>1859162</td>\n",
       "      <td>26/10/2021</td>\n",
       "      <td>25/10/2021</td>\n",
       "      <td>หญิง</td>\n",
       "      <td>84.0</td>\n",
       "      <td>ปี</td>\n",
       "      <td>Thailand</td>\n",
       "      <td>ลำปาง</td>\n",
       "      <td>สัมผัสใกล้ชิดกับผู้ป่วยยืนยันรายก่อนหน้านี้</td>\n",
       "      <td>ลำปาง</td>\n",
       "      <td>เมืองลำปาง</td>\n",
       "    </tr>\n",
       "    <tr>\n",
       "      <th>5</th>\n",
       "      <td>1859163</td>\n",
       "      <td>26/10/2021</td>\n",
       "      <td>25/10/2021</td>\n",
       "      <td>หญิง</td>\n",
       "      <td>42.0</td>\n",
       "      <td>ปี</td>\n",
       "      <td>Thailand</td>\n",
       "      <td>ลำปาง</td>\n",
       "      <td>สัมผัสใกล้ชิดกับผู้ป่วยยืนยันรายก่อนหน้านี้</td>\n",
       "      <td>ลำปาง</td>\n",
       "      <td>เมืองลำปาง</td>\n",
       "    </tr>\n",
       "    <tr>\n",
       "      <th>6</th>\n",
       "      <td>1859164</td>\n",
       "      <td>26/10/2021</td>\n",
       "      <td>25/10/2021</td>\n",
       "      <td>หญิง</td>\n",
       "      <td>62.0</td>\n",
       "      <td>ปี</td>\n",
       "      <td>Thailand</td>\n",
       "      <td>ลำปาง</td>\n",
       "      <td>สัมผัสใกล้ชิดกับผู้ป่วยยืนยันรายก่อนหน้านี้</td>\n",
       "      <td>ลำปาง</td>\n",
       "      <td>เมืองลำปาง</td>\n",
       "    </tr>\n",
       "    <tr>\n",
       "      <th>7</th>\n",
       "      <td>1859165</td>\n",
       "      <td>26/10/2021</td>\n",
       "      <td>25/10/2021</td>\n",
       "      <td>ชาย</td>\n",
       "      <td>50.0</td>\n",
       "      <td>ปี</td>\n",
       "      <td>Thailand</td>\n",
       "      <td>ลำปาง</td>\n",
       "      <td>อื่นๆ</td>\n",
       "      <td>ลำปาง</td>\n",
       "      <td>เมืองลำปาง</td>\n",
       "    </tr>\n",
       "    <tr>\n",
       "      <th>8</th>\n",
       "      <td>1859166</td>\n",
       "      <td>26/10/2021</td>\n",
       "      <td>25/10/2021</td>\n",
       "      <td>ชาย</td>\n",
       "      <td>24.0</td>\n",
       "      <td>ปี</td>\n",
       "      <td>NaN</td>\n",
       "      <td>ลำพูน</td>\n",
       "      <td>อื่นๆ</td>\n",
       "      <td>ลำพูน</td>\n",
       "      <td>เมือง</td>\n",
       "    </tr>\n",
       "    <tr>\n",
       "      <th>9</th>\n",
       "      <td>1859167</td>\n",
       "      <td>26/10/2021</td>\n",
       "      <td>25/10/2021</td>\n",
       "      <td>หญิง</td>\n",
       "      <td>5.0</td>\n",
       "      <td>ปี</td>\n",
       "      <td>NaN</td>\n",
       "      <td>ลำพูน</td>\n",
       "      <td>อื่นๆ</td>\n",
       "      <td>ลำพูน</td>\n",
       "      <td>ทุ่งหัวช้าง</td>\n",
       "    </tr>\n",
       "  </tbody>\n",
       "</table>\n",
       "</div>"
      ],
      "text/plain": [
       "       No. announce_date Notified date   sex   age Unit nationality  \\\n",
       "0  1859158    26/10/2021    25/10/2021   ชาย  20.0   ปี    Thailand   \n",
       "1  1859159    26/10/2021    25/10/2021  หญิง  42.0   ปี    Thailand   \n",
       "2  1859160    26/10/2021    25/10/2021  หญิง  33.0   ปี    Thailand   \n",
       "3  1859161    26/10/2021    25/10/2021  หญิง  52.0   ปี    Thailand   \n",
       "4  1859162    26/10/2021    25/10/2021  หญิง  84.0   ปี    Thailand   \n",
       "5  1859163    26/10/2021    25/10/2021  หญิง  42.0   ปี    Thailand   \n",
       "6  1859164    26/10/2021    25/10/2021  หญิง  62.0   ปี    Thailand   \n",
       "7  1859165    26/10/2021    25/10/2021   ชาย  50.0   ปี    Thailand   \n",
       "8  1859166    26/10/2021    25/10/2021   ชาย  24.0   ปี         NaN   \n",
       "9  1859167    26/10/2021    25/10/2021  หญิง   5.0   ปี         NaN   \n",
       "\n",
       "  province_of_isolation                                           risk  \\\n",
       "0                 ลำปาง                                          อื่นๆ   \n",
       "1                 ลำปาง                                          อื่นๆ   \n",
       "2                 ลำปาง  ไปสถานที่ชุมชน เช่น ตลาดนัด สถานที่ท่องเที่ยว   \n",
       "3                 ลำปาง  ไปสถานที่ชุมชน เช่น ตลาดนัด สถานที่ท่องเที่ยว   \n",
       "4                 ลำปาง    สัมผัสใกล้ชิดกับผู้ป่วยยืนยันรายก่อนหน้านี้   \n",
       "5                 ลำปาง    สัมผัสใกล้ชิดกับผู้ป่วยยืนยันรายก่อนหน้านี้   \n",
       "6                 ลำปาง    สัมผัสใกล้ชิดกับผู้ป่วยยืนยันรายก่อนหน้านี้   \n",
       "7                 ลำปาง                                          อื่นๆ   \n",
       "8                 ลำพูน                                          อื่นๆ   \n",
       "9                 ลำพูน                                          อื่นๆ   \n",
       "\n",
       "  province_of_onset district_of_onset  \n",
       "0             ลำปาง        เมืองลำปาง  \n",
       "1             ลำปาง        เมืองลำปาง  \n",
       "2             ลำปาง          ห้างฉัตร  \n",
       "3             ลำปาง          ห้างฉัตร  \n",
       "4             ลำปาง        เมืองลำปาง  \n",
       "5             ลำปาง        เมืองลำปาง  \n",
       "6             ลำปาง        เมืองลำปาง  \n",
       "7             ลำปาง        เมืองลำปาง  \n",
       "8             ลำพูน             เมือง  \n",
       "9             ลำพูน       ทุ่งหัวช้าง  "
      ]
     },
     "execution_count": 3,
     "metadata": {},
     "output_type": "execute_result"
    }
   ],
   "source": [
    "df.head(10)"
   ]
  },
  {
   "cell_type": "code",
   "execution_count": 4,
   "id": "4bae8838",
   "metadata": {},
   "outputs": [
    {
     "data": {
      "text/html": [
       "<div>\n",
       "<style scoped>\n",
       "    .dataframe tbody tr th:only-of-type {\n",
       "        vertical-align: middle;\n",
       "    }\n",
       "\n",
       "    .dataframe tbody tr th {\n",
       "        vertical-align: top;\n",
       "    }\n",
       "\n",
       "    .dataframe thead th {\n",
       "        text-align: right;\n",
       "    }\n",
       "</style>\n",
       "<table border=\"1\" class=\"dataframe\">\n",
       "  <thead>\n",
       "    <tr style=\"text-align: right;\">\n",
       "      <th></th>\n",
       "      <th>No.</th>\n",
       "      <th>announce_date</th>\n",
       "      <th>Notified date</th>\n",
       "      <th>sex</th>\n",
       "      <th>age</th>\n",
       "      <th>Unit</th>\n",
       "      <th>nationality</th>\n",
       "      <th>province_of_isolation</th>\n",
       "      <th>risk</th>\n",
       "      <th>province_of_onset</th>\n",
       "      <th>district_of_onset</th>\n",
       "    </tr>\n",
       "  </thead>\n",
       "  <tbody>\n",
       "  </tbody>\n",
       "</table>\n",
       "</div>"
      ],
      "text/plain": [
       "Empty DataFrame\n",
       "Columns: [No., announce_date, Notified date, sex, age, Unit, nationality, province_of_isolation, risk, province_of_onset, district_of_onset]\n",
       "Index: []"
      ]
     },
     "execution_count": 4,
     "metadata": {},
     "output_type": "execute_result"
    }
   ],
   "source": [
    "df[df.duplicated(keep=False)]"
   ]
  },
  {
   "cell_type": "code",
   "execution_count": 5,
   "id": "a68c1105",
   "metadata": {},
   "outputs": [],
   "source": [
    "df = df.drop_duplicates(keep='first')"
   ]
  },
  {
   "cell_type": "code",
   "execution_count": 6,
   "id": "8740cee8",
   "metadata": {
    "scrolled": true
   },
   "outputs": [
    {
     "data": {
      "text/plain": [
       "0         False\n",
       "1         False\n",
       "2         False\n",
       "3         False\n",
       "4         False\n",
       "          ...  \n",
       "626960    False\n",
       "626961    False\n",
       "626962    False\n",
       "626963    False\n",
       "626964    False\n",
       "Length: 626965, dtype: bool"
      ]
     },
     "execution_count": 6,
     "metadata": {},
     "output_type": "execute_result"
    }
   ],
   "source": [
    "df.duplicated(keep=False)"
   ]
  },
  {
   "cell_type": "code",
   "execution_count": 7,
   "id": "29da102e",
   "metadata": {},
   "outputs": [
    {
     "data": {
      "text/html": [
       "<div>\n",
       "<style scoped>\n",
       "    .dataframe tbody tr th:only-of-type {\n",
       "        vertical-align: middle;\n",
       "    }\n",
       "\n",
       "    .dataframe tbody tr th {\n",
       "        vertical-align: top;\n",
       "    }\n",
       "\n",
       "    .dataframe thead th {\n",
       "        text-align: right;\n",
       "    }\n",
       "</style>\n",
       "<table border=\"1\" class=\"dataframe\">\n",
       "  <thead>\n",
       "    <tr style=\"text-align: right;\">\n",
       "      <th></th>\n",
       "      <th>No.</th>\n",
       "      <th>announce_date</th>\n",
       "      <th>Notified date</th>\n",
       "      <th>sex</th>\n",
       "      <th>age</th>\n",
       "      <th>Unit</th>\n",
       "      <th>nationality</th>\n",
       "      <th>province_of_isolation</th>\n",
       "      <th>risk</th>\n",
       "      <th>province_of_onset</th>\n",
       "      <th>district_of_onset</th>\n",
       "    </tr>\n",
       "  </thead>\n",
       "  <tbody>\n",
       "    <tr>\n",
       "      <th>0</th>\n",
       "      <td>1859158</td>\n",
       "      <td>26/10/2021</td>\n",
       "      <td>25/10/2021</td>\n",
       "      <td>ชาย</td>\n",
       "      <td>20.0</td>\n",
       "      <td>ปี</td>\n",
       "      <td>Thailand</td>\n",
       "      <td>ลำปาง</td>\n",
       "      <td>อื่นๆ</td>\n",
       "      <td>ลำปาง</td>\n",
       "      <td>เมืองลำปาง</td>\n",
       "    </tr>\n",
       "    <tr>\n",
       "      <th>1</th>\n",
       "      <td>1859159</td>\n",
       "      <td>26/10/2021</td>\n",
       "      <td>25/10/2021</td>\n",
       "      <td>หญิง</td>\n",
       "      <td>42.0</td>\n",
       "      <td>ปี</td>\n",
       "      <td>Thailand</td>\n",
       "      <td>ลำปาง</td>\n",
       "      <td>อื่นๆ</td>\n",
       "      <td>ลำปาง</td>\n",
       "      <td>เมืองลำปาง</td>\n",
       "    </tr>\n",
       "    <tr>\n",
       "      <th>2</th>\n",
       "      <td>1859160</td>\n",
       "      <td>26/10/2021</td>\n",
       "      <td>25/10/2021</td>\n",
       "      <td>หญิง</td>\n",
       "      <td>33.0</td>\n",
       "      <td>ปี</td>\n",
       "      <td>Thailand</td>\n",
       "      <td>ลำปาง</td>\n",
       "      <td>ไปสถานที่ชุมชน เช่น ตลาดนัด สถานที่ท่องเที่ยว</td>\n",
       "      <td>ลำปาง</td>\n",
       "      <td>ห้างฉัตร</td>\n",
       "    </tr>\n",
       "    <tr>\n",
       "      <th>3</th>\n",
       "      <td>1859161</td>\n",
       "      <td>26/10/2021</td>\n",
       "      <td>25/10/2021</td>\n",
       "      <td>หญิง</td>\n",
       "      <td>52.0</td>\n",
       "      <td>ปี</td>\n",
       "      <td>Thailand</td>\n",
       "      <td>ลำปาง</td>\n",
       "      <td>ไปสถานที่ชุมชน เช่น ตลาดนัด สถานที่ท่องเที่ยว</td>\n",
       "      <td>ลำปาง</td>\n",
       "      <td>ห้างฉัตร</td>\n",
       "    </tr>\n",
       "    <tr>\n",
       "      <th>4</th>\n",
       "      <td>1859162</td>\n",
       "      <td>26/10/2021</td>\n",
       "      <td>25/10/2021</td>\n",
       "      <td>หญิง</td>\n",
       "      <td>84.0</td>\n",
       "      <td>ปี</td>\n",
       "      <td>Thailand</td>\n",
       "      <td>ลำปาง</td>\n",
       "      <td>สัมผัสใกล้ชิดกับผู้ป่วยยืนยันรายก่อนหน้านี้</td>\n",
       "      <td>ลำปาง</td>\n",
       "      <td>เมืองลำปาง</td>\n",
       "    </tr>\n",
       "    <tr>\n",
       "      <th>5</th>\n",
       "      <td>1859163</td>\n",
       "      <td>26/10/2021</td>\n",
       "      <td>25/10/2021</td>\n",
       "      <td>หญิง</td>\n",
       "      <td>42.0</td>\n",
       "      <td>ปี</td>\n",
       "      <td>Thailand</td>\n",
       "      <td>ลำปาง</td>\n",
       "      <td>สัมผัสใกล้ชิดกับผู้ป่วยยืนยันรายก่อนหน้านี้</td>\n",
       "      <td>ลำปาง</td>\n",
       "      <td>เมืองลำปาง</td>\n",
       "    </tr>\n",
       "    <tr>\n",
       "      <th>6</th>\n",
       "      <td>1859164</td>\n",
       "      <td>26/10/2021</td>\n",
       "      <td>25/10/2021</td>\n",
       "      <td>หญิง</td>\n",
       "      <td>62.0</td>\n",
       "      <td>ปี</td>\n",
       "      <td>Thailand</td>\n",
       "      <td>ลำปาง</td>\n",
       "      <td>สัมผัสใกล้ชิดกับผู้ป่วยยืนยันรายก่อนหน้านี้</td>\n",
       "      <td>ลำปาง</td>\n",
       "      <td>เมืองลำปาง</td>\n",
       "    </tr>\n",
       "    <tr>\n",
       "      <th>7</th>\n",
       "      <td>1859165</td>\n",
       "      <td>26/10/2021</td>\n",
       "      <td>25/10/2021</td>\n",
       "      <td>ชาย</td>\n",
       "      <td>50.0</td>\n",
       "      <td>ปี</td>\n",
       "      <td>Thailand</td>\n",
       "      <td>ลำปาง</td>\n",
       "      <td>อื่นๆ</td>\n",
       "      <td>ลำปาง</td>\n",
       "      <td>เมืองลำปาง</td>\n",
       "    </tr>\n",
       "    <tr>\n",
       "      <th>8</th>\n",
       "      <td>1859166</td>\n",
       "      <td>26/10/2021</td>\n",
       "      <td>25/10/2021</td>\n",
       "      <td>ชาย</td>\n",
       "      <td>24.0</td>\n",
       "      <td>ปี</td>\n",
       "      <td>NaN</td>\n",
       "      <td>ลำพูน</td>\n",
       "      <td>อื่นๆ</td>\n",
       "      <td>ลำพูน</td>\n",
       "      <td>เมือง</td>\n",
       "    </tr>\n",
       "    <tr>\n",
       "      <th>9</th>\n",
       "      <td>1859167</td>\n",
       "      <td>26/10/2021</td>\n",
       "      <td>25/10/2021</td>\n",
       "      <td>หญิง</td>\n",
       "      <td>5.0</td>\n",
       "      <td>ปี</td>\n",
       "      <td>NaN</td>\n",
       "      <td>ลำพูน</td>\n",
       "      <td>อื่นๆ</td>\n",
       "      <td>ลำพูน</td>\n",
       "      <td>ทุ่งหัวช้าง</td>\n",
       "    </tr>\n",
       "  </tbody>\n",
       "</table>\n",
       "</div>"
      ],
      "text/plain": [
       "       No. announce_date Notified date   sex   age Unit nationality  \\\n",
       "0  1859158    26/10/2021    25/10/2021   ชาย  20.0   ปี    Thailand   \n",
       "1  1859159    26/10/2021    25/10/2021  หญิง  42.0   ปี    Thailand   \n",
       "2  1859160    26/10/2021    25/10/2021  หญิง  33.0   ปี    Thailand   \n",
       "3  1859161    26/10/2021    25/10/2021  หญิง  52.0   ปี    Thailand   \n",
       "4  1859162    26/10/2021    25/10/2021  หญิง  84.0   ปี    Thailand   \n",
       "5  1859163    26/10/2021    25/10/2021  หญิง  42.0   ปี    Thailand   \n",
       "6  1859164    26/10/2021    25/10/2021  หญิง  62.0   ปี    Thailand   \n",
       "7  1859165    26/10/2021    25/10/2021   ชาย  50.0   ปี    Thailand   \n",
       "8  1859166    26/10/2021    25/10/2021   ชาย  24.0   ปี         NaN   \n",
       "9  1859167    26/10/2021    25/10/2021  หญิง   5.0   ปี         NaN   \n",
       "\n",
       "  province_of_isolation                                           risk  \\\n",
       "0                 ลำปาง                                          อื่นๆ   \n",
       "1                 ลำปาง                                          อื่นๆ   \n",
       "2                 ลำปาง  ไปสถานที่ชุมชน เช่น ตลาดนัด สถานที่ท่องเที่ยว   \n",
       "3                 ลำปาง  ไปสถานที่ชุมชน เช่น ตลาดนัด สถานที่ท่องเที่ยว   \n",
       "4                 ลำปาง    สัมผัสใกล้ชิดกับผู้ป่วยยืนยันรายก่อนหน้านี้   \n",
       "5                 ลำปาง    สัมผัสใกล้ชิดกับผู้ป่วยยืนยันรายก่อนหน้านี้   \n",
       "6                 ลำปาง    สัมผัสใกล้ชิดกับผู้ป่วยยืนยันรายก่อนหน้านี้   \n",
       "7                 ลำปาง                                          อื่นๆ   \n",
       "8                 ลำพูน                                          อื่นๆ   \n",
       "9                 ลำพูน                                          อื่นๆ   \n",
       "\n",
       "  province_of_onset district_of_onset  \n",
       "0             ลำปาง        เมืองลำปาง  \n",
       "1             ลำปาง        เมืองลำปาง  \n",
       "2             ลำปาง          ห้างฉัตร  \n",
       "3             ลำปาง          ห้างฉัตร  \n",
       "4             ลำปาง        เมืองลำปาง  \n",
       "5             ลำปาง        เมืองลำปาง  \n",
       "6             ลำปาง        เมืองลำปาง  \n",
       "7             ลำปาง        เมืองลำปาง  \n",
       "8             ลำพูน             เมือง  \n",
       "9             ลำพูน       ทุ่งหัวช้าง  "
      ]
     },
     "execution_count": 7,
     "metadata": {},
     "output_type": "execute_result"
    }
   ],
   "source": [
    "df.head(10)"
   ]
  },
  {
   "cell_type": "code",
   "execution_count": 8,
   "id": "69186af8",
   "metadata": {},
   "outputs": [],
   "source": [
    "df['nationality'].fillna('N/A',inplace=True)"
   ]
  },
  {
   "cell_type": "code",
   "execution_count": 9,
   "id": "661b87da",
   "metadata": {},
   "outputs": [],
   "source": [
    "df['Unit'].fillna('N/A',inplace=True)"
   ]
  },
  {
   "cell_type": "code",
   "execution_count": 10,
   "id": "af0546c3",
   "metadata": {},
   "outputs": [],
   "source": [
    "df['district_of_onset'].fillna('N/A',inplace=True)"
   ]
  },
  {
   "cell_type": "code",
   "execution_count": 11,
   "id": "debcedc8",
   "metadata": {},
   "outputs": [],
   "source": [
    "df['province_of_onset'].fillna('N/A',inplace=True)"
   ]
  },
  {
   "cell_type": "code",
   "execution_count": 12,
   "id": "786431d7",
   "metadata": {},
   "outputs": [],
   "source": [
    "df['province_of_isolation'].fillna('N/A',inplace=True)"
   ]
  },
  {
   "cell_type": "code",
   "execution_count": 13,
   "id": "33a60b7b",
   "metadata": {},
   "outputs": [],
   "source": [
    "df['age'].fillna('0',inplace=True)"
   ]
  },
  {
   "cell_type": "code",
   "execution_count": 14,
   "id": "11364cb0",
   "metadata": {},
   "outputs": [],
   "source": [
    "df['risk'].fillna('N/A',inplace=True)"
   ]
  },
  {
   "cell_type": "code",
   "execution_count": 15,
   "id": "d9b639e8",
   "metadata": {},
   "outputs": [],
   "source": [
    "df['sex'].fillna('N/A',inplace=True)"
   ]
  },
  {
   "cell_type": "code",
   "execution_count": 16,
   "id": "30edd884",
   "metadata": {},
   "outputs": [],
   "source": [
    "df['No.'].fillna('N/A',inplace=True)"
   ]
  },
  {
   "cell_type": "code",
   "execution_count": 17,
   "id": "00ac5895",
   "metadata": {},
   "outputs": [],
   "source": [
    "df['age'] = df['age'].astype(float)"
   ]
  },
  {
   "cell_type": "code",
   "execution_count": 18,
   "id": "9680e5f2",
   "metadata": {},
   "outputs": [],
   "source": [
    "df['age'].replace('2021','WrongData', \n",
    "inplace=True)"
   ]
  },
  {
   "cell_type": "code",
   "execution_count": 19,
   "id": "40a7cf31",
   "metadata": {},
   "outputs": [],
   "source": [
    "df['age'].replace('330','WrongData', \n",
    "inplace=True)"
   ]
  },
  {
   "cell_type": "code",
   "execution_count": 20,
   "id": "dc771939",
   "metadata": {},
   "outputs": [],
   "source": [
    "df['age'].replace('158','WrongData', \n",
    "inplace=True)"
   ]
  },
  {
   "cell_type": "code",
   "execution_count": 21,
   "id": "7bf007b2",
   "metadata": {},
   "outputs": [],
   "source": [
    "df['age'].replace('149','WrongData', \n",
    "inplace=True)"
   ]
  },
  {
   "cell_type": "code",
   "execution_count": 22,
   "id": "3dd278bd",
   "metadata": {},
   "outputs": [],
   "source": [
    "df['age'].replace('121','WrongData', \n",
    "inplace=True)"
   ]
  },
  {
   "cell_type": "code",
   "execution_count": 23,
   "id": "6c64dcc8",
   "metadata": {},
   "outputs": [
    {
     "data": {
      "text/html": [
       "<div>\n",
       "<style scoped>\n",
       "    .dataframe tbody tr th:only-of-type {\n",
       "        vertical-align: middle;\n",
       "    }\n",
       "\n",
       "    .dataframe tbody tr th {\n",
       "        vertical-align: top;\n",
       "    }\n",
       "\n",
       "    .dataframe thead th {\n",
       "        text-align: right;\n",
       "    }\n",
       "</style>\n",
       "<table border=\"1\" class=\"dataframe\">\n",
       "  <thead>\n",
       "    <tr style=\"text-align: right;\">\n",
       "      <th></th>\n",
       "      <th>No.</th>\n",
       "      <th>age</th>\n",
       "    </tr>\n",
       "  </thead>\n",
       "  <tbody>\n",
       "    <tr>\n",
       "      <th>count</th>\n",
       "      <td>6.269650e+05</td>\n",
       "      <td>626965.000000</td>\n",
       "    </tr>\n",
       "    <tr>\n",
       "      <th>mean</th>\n",
       "      <td>2.172640e+06</td>\n",
       "      <td>30.916427</td>\n",
       "    </tr>\n",
       "    <tr>\n",
       "      <th>std</th>\n",
       "      <td>1.809894e+05</td>\n",
       "      <td>20.783484</td>\n",
       "    </tr>\n",
       "    <tr>\n",
       "      <th>min</th>\n",
       "      <td>1.859158e+06</td>\n",
       "      <td>0.000000</td>\n",
       "    </tr>\n",
       "    <tr>\n",
       "      <th>25%</th>\n",
       "      <td>2.015899e+06</td>\n",
       "      <td>16.000000</td>\n",
       "    </tr>\n",
       "    <tr>\n",
       "      <th>50%</th>\n",
       "      <td>2.172640e+06</td>\n",
       "      <td>29.000000</td>\n",
       "    </tr>\n",
       "    <tr>\n",
       "      <th>75%</th>\n",
       "      <td>2.329381e+06</td>\n",
       "      <td>45.000000</td>\n",
       "    </tr>\n",
       "    <tr>\n",
       "      <th>max</th>\n",
       "      <td>2.486122e+06</td>\n",
       "      <td>2021.000000</td>\n",
       "    </tr>\n",
       "  </tbody>\n",
       "</table>\n",
       "</div>"
      ],
      "text/plain": [
       "                No.            age\n",
       "count  6.269650e+05  626965.000000\n",
       "mean   2.172640e+06      30.916427\n",
       "std    1.809894e+05      20.783484\n",
       "min    1.859158e+06       0.000000\n",
       "25%    2.015899e+06      16.000000\n",
       "50%    2.172640e+06      29.000000\n",
       "75%    2.329381e+06      45.000000\n",
       "max    2.486122e+06    2021.000000"
      ]
     },
     "execution_count": 23,
     "metadata": {},
     "output_type": "execute_result"
    }
   ],
   "source": [
    "df.describe()"
   ]
  },
  {
   "cell_type": "code",
   "execution_count": 24,
   "id": "64658ab1",
   "metadata": {},
   "outputs": [
    {
     "data": {
      "text/plain": [
       "No.                      0\n",
       "announce_date            0\n",
       "Notified date            0\n",
       "sex                      0\n",
       "age                      0\n",
       "Unit                     0\n",
       "nationality              0\n",
       "province_of_isolation    0\n",
       "risk                     0\n",
       "province_of_onset        0\n",
       "district_of_onset        0\n",
       "dtype: int64"
      ]
     },
     "execution_count": 24,
     "metadata": {},
     "output_type": "execute_result"
    }
   ],
   "source": [
    "df.isnull().sum()"
   ]
  },
  {
   "cell_type": "code",
   "execution_count": 25,
   "id": "e48f723e",
   "metadata": {},
   "outputs": [
    {
     "data": {
      "text/plain": [
       "array([[<AxesSubplot:title={'center':'No.'}>,\n",
       "        <AxesSubplot:title={'center':'age'}>]], dtype=object)"
      ]
     },
     "execution_count": 25,
     "metadata": {},
     "output_type": "execute_result"
    },
    {
     "data": {
      "image/png": "[encoded data removed]",
      "text/plain": [
       "<Figure size 432x288 with 2 Axes>"
      ]
     },
     "metadata": {
      "needs_background": "light"
     },
     "output_type": "display_data"
    }
   ],
   "source": [
    "df.hist()"
   ]
  },
  {
   "cell_type": "code",
   "execution_count": 26,
   "id": "c172f606",
   "metadata": {},
   "outputs": [],
   "source": [
    "df['AgeGroup'] = pd.DataFrame({'age':[0,2,4,13,35,-1,54]})\n",
    "\n",
    "bins= [0,2,4,13,20,110,1000,2000,3000]\n",
    "labels = ['Infant','Toddler','Kid','Teen','Adult','Incorrect','WrongData','NotCorrect']\n",
    "df['AgeGroup'] = pd.cut(df['age'], bins=bins, labels=labels, right=False)"
   ]
  },
  {
   "cell_type": "code",
   "execution_count": 27,
   "id": "9a1d718a",
   "metadata": {},
   "outputs": [
    {
     "data": {
      "text/plain": [
       "Adult         444817\n",
       "Infant         69202\n",
       "Kid            57113\n",
       "Teen           44147\n",
       "Toddler        11678\n",
       "Incorrect          7\n",
       "NotCorrect         1\n",
       "WrongData          0\n",
       "Name: AgeGroup, dtype: int64"
      ]
     },
     "execution_count": 27,
     "metadata": {},
     "output_type": "execute_result"
    }
   ],
   "source": [
    "df.AgeGroup.value_counts()"
   ]
  },
  {
   "cell_type": "code",
   "execution_count": 28,
   "id": "8a07d8f5",
   "metadata": {},
   "outputs": [
    {
     "data": {
      "text/plain": [
       "Thailand         522242\n",
       "N/A               64383\n",
       "Burmese           13702\n",
       "Thailnad           7557\n",
       "Cambodian          4721\n",
       "                  ...  \n",
       "south african         1\n",
       "Arabi                 1\n",
       "สวีเดน                1\n",
       "au                    1\n",
       "Zambian               1\n",
       "Name: nationality, Length: 156, dtype: int64"
      ]
     },
     "execution_count": 28,
     "metadata": {},
     "output_type": "execute_result"
    }
   ],
   "source": [
    "df.nationality.value_counts()"
   ]
  },
  {
   "cell_type": "code",
   "execution_count": 29,
   "id": "0c271db2",
   "metadata": {},
   "outputs": [],
   "source": [
    "from sklearn.preprocessing import LabelEncoder\n",
    "le = LabelEncoder()\n",
    "df['sex'] =le.fit_transform(df['sex'])"
   ]
  },
  {
   "cell_type": "code",
   "execution_count": 30,
   "id": "03fd0c26",
   "metadata": {},
   "outputs": [],
   "source": [
    "from sklearn.preprocessing import LabelEncoder\n",
    "le = LabelEncoder()\n",
    "df['province_of_onset'] =le.fit_transform(df['province_of_onset'])"
   ]
  },
  {
   "cell_type": "code",
   "execution_count": 31,
   "id": "cd6bd9bf",
   "metadata": {},
   "outputs": [],
   "source": [
    "from sklearn.preprocessing import LabelEncoder\n",
    "le = LabelEncoder()\n",
    "df['district_of_onset'] =le.fit_transform(df['district_of_onset'])"
   ]
  },
  {
   "cell_type": "code",
   "execution_count": 32,
   "id": "81c3166d",
   "metadata": {},
   "outputs": [],
   "source": [
    "from sklearn.preprocessing import LabelEncoder\n",
    "le = LabelEncoder()\n",
    "df['province_of_isolation'] =le.fit_transform(df['province_of_isolation'])"
   ]
  },
  {
   "cell_type": "code",
   "execution_count": 33,
   "id": "ac0e7371",
   "metadata": {},
   "outputs": [
    {
     "data": {
      "text/html": [
       "<div>\n",
       "<style scoped>\n",
       "    .dataframe tbody tr th:only-of-type {\n",
       "        vertical-align: middle;\n",
       "    }\n",
       "\n",
       "    .dataframe tbody tr th {\n",
       "        vertical-align: top;\n",
       "    }\n",
       "\n",
       "    .dataframe thead th {\n",
       "        text-align: right;\n",
       "    }\n",
       "</style>\n",
       "<table border=\"1\" class=\"dataframe\">\n",
       "  <thead>\n",
       "    <tr style=\"text-align: right;\">\n",
       "      <th></th>\n",
       "      <th>No.</th>\n",
       "      <th>announce_date</th>\n",
       "      <th>Notified date</th>\n",
       "      <th>sex</th>\n",
       "      <th>age</th>\n",
       "      <th>Unit</th>\n",
       "      <th>nationality</th>\n",
       "      <th>province_of_isolation</th>\n",
       "      <th>risk</th>\n",
       "      <th>province_of_onset</th>\n",
       "      <th>district_of_onset</th>\n",
       "      <th>AgeGroup</th>\n",
       "    </tr>\n",
       "  </thead>\n",
       "  <tbody>\n",
       "    <tr>\n",
       "      <th>0</th>\n",
       "      <td>1859158</td>\n",
       "      <td>26/10/2021</td>\n",
       "      <td>25/10/2021</td>\n",
       "      <td>2</td>\n",
       "      <td>20.0</td>\n",
       "      <td>ปี</td>\n",
       "      <td>Thailand</td>\n",
       "      <td>48</td>\n",
       "      <td>อื่นๆ</td>\n",
       "      <td>114</td>\n",
       "      <td>1903</td>\n",
       "      <td>Adult</td>\n",
       "    </tr>\n",
       "    <tr>\n",
       "      <th>1</th>\n",
       "      <td>1859159</td>\n",
       "      <td>26/10/2021</td>\n",
       "      <td>25/10/2021</td>\n",
       "      <td>4</td>\n",
       "      <td>42.0</td>\n",
       "      <td>ปี</td>\n",
       "      <td>Thailand</td>\n",
       "      <td>48</td>\n",
       "      <td>อื่นๆ</td>\n",
       "      <td>114</td>\n",
       "      <td>1903</td>\n",
       "      <td>Adult</td>\n",
       "    </tr>\n",
       "    <tr>\n",
       "      <th>2</th>\n",
       "      <td>1859160</td>\n",
       "      <td>26/10/2021</td>\n",
       "      <td>25/10/2021</td>\n",
       "      <td>4</td>\n",
       "      <td>33.0</td>\n",
       "      <td>ปี</td>\n",
       "      <td>Thailand</td>\n",
       "      <td>48</td>\n",
       "      <td>ไปสถานที่ชุมชน เช่น ตลาดนัด สถานที่ท่องเที่ยว</td>\n",
       "      <td>114</td>\n",
       "      <td>1565</td>\n",
       "      <td>Adult</td>\n",
       "    </tr>\n",
       "    <tr>\n",
       "      <th>3</th>\n",
       "      <td>1859161</td>\n",
       "      <td>26/10/2021</td>\n",
       "      <td>25/10/2021</td>\n",
       "      <td>4</td>\n",
       "      <td>52.0</td>\n",
       "      <td>ปี</td>\n",
       "      <td>Thailand</td>\n",
       "      <td>48</td>\n",
       "      <td>ไปสถานที่ชุมชน เช่น ตลาดนัด สถานที่ท่องเที่ยว</td>\n",
       "      <td>114</td>\n",
       "      <td>1565</td>\n",
       "      <td>Adult</td>\n",
       "    </tr>\n",
       "    <tr>\n",
       "      <th>4</th>\n",
       "      <td>1859162</td>\n",
       "      <td>26/10/2021</td>\n",
       "      <td>25/10/2021</td>\n",
       "      <td>4</td>\n",
       "      <td>84.0</td>\n",
       "      <td>ปี</td>\n",
       "      <td>Thailand</td>\n",
       "      <td>48</td>\n",
       "      <td>สัมผัสใกล้ชิดกับผู้ป่วยยืนยันรายก่อนหน้านี้</td>\n",
       "      <td>114</td>\n",
       "      <td>1903</td>\n",
       "      <td>Adult</td>\n",
       "    </tr>\n",
       "    <tr>\n",
       "      <th>...</th>\n",
       "      <td>...</td>\n",
       "      <td>...</td>\n",
       "      <td>...</td>\n",
       "      <td>...</td>\n",
       "      <td>...</td>\n",
       "      <td>...</td>\n",
       "      <td>...</td>\n",
       "      <td>...</td>\n",
       "      <td>...</td>\n",
       "      <td>...</td>\n",
       "      <td>...</td>\n",
       "      <td>...</td>\n",
       "    </tr>\n",
       "    <tr>\n",
       "      <th>195</th>\n",
       "      <td>1859353</td>\n",
       "      <td>26/10/2021</td>\n",
       "      <td>25/10/2021</td>\n",
       "      <td>2</td>\n",
       "      <td>12.0</td>\n",
       "      <td>ปี</td>\n",
       "      <td>N/A</td>\n",
       "      <td>73</td>\n",
       "      <td>สัมผัสใกล้ชิดกับผู้ป่วยยืนยันรายก่อนหน้านี้</td>\n",
       "      <td>179</td>\n",
       "      <td>1942</td>\n",
       "      <td>Kid</td>\n",
       "    </tr>\n",
       "    <tr>\n",
       "      <th>196</th>\n",
       "      <td>1859354</td>\n",
       "      <td>26/10/2021</td>\n",
       "      <td>25/10/2021</td>\n",
       "      <td>2</td>\n",
       "      <td>38.0</td>\n",
       "      <td>ปี</td>\n",
       "      <td>N/A</td>\n",
       "      <td>73</td>\n",
       "      <td>สัมผัสใกล้ชิดกับผู้ป่วยยืนยันรายก่อนหน้านี้</td>\n",
       "      <td>179</td>\n",
       "      <td>1367</td>\n",
       "      <td>Adult</td>\n",
       "    </tr>\n",
       "    <tr>\n",
       "      <th>197</th>\n",
       "      <td>1859355</td>\n",
       "      <td>26/10/2021</td>\n",
       "      <td>25/10/2021</td>\n",
       "      <td>2</td>\n",
       "      <td>25.0</td>\n",
       "      <td>ปี</td>\n",
       "      <td>N/A</td>\n",
       "      <td>73</td>\n",
       "      <td>สถานที่ทำงาน</td>\n",
       "      <td>179</td>\n",
       "      <td>2042</td>\n",
       "      <td>Adult</td>\n",
       "    </tr>\n",
       "    <tr>\n",
       "      <th>198</th>\n",
       "      <td>1859356</td>\n",
       "      <td>26/10/2021</td>\n",
       "      <td>25/10/2021</td>\n",
       "      <td>4</td>\n",
       "      <td>16.0</td>\n",
       "      <td>ปี</td>\n",
       "      <td>N/A</td>\n",
       "      <td>73</td>\n",
       "      <td>อื่นๆ</td>\n",
       "      <td>179</td>\n",
       "      <td>1367</td>\n",
       "      <td>Teen</td>\n",
       "    </tr>\n",
       "    <tr>\n",
       "      <th>199</th>\n",
       "      <td>1859357</td>\n",
       "      <td>26/10/2021</td>\n",
       "      <td>25/10/2021</td>\n",
       "      <td>2</td>\n",
       "      <td>63.0</td>\n",
       "      <td>ปี</td>\n",
       "      <td>N/A</td>\n",
       "      <td>73</td>\n",
       "      <td>สัมผัสใกล้ชิดกับผู้ป่วยยืนยันรายก่อนหน้านี้</td>\n",
       "      <td>179</td>\n",
       "      <td>1367</td>\n",
       "      <td>Adult</td>\n",
       "    </tr>\n",
       "  </tbody>\n",
       "</table>\n",
       "<p>200 rows × 12 columns</p>\n",
       "</div>"
      ],
      "text/plain": [
       "         No. announce_date Notified date  sex   age Unit nationality  \\\n",
       "0    1859158    26/10/2021    25/10/2021    2  20.0   ปี    Thailand   \n",
       "1    1859159    26/10/2021    25/10/2021    4  42.0   ปี    Thailand   \n",
       "2    1859160    26/10/2021    25/10/2021    4  33.0   ปี    Thailand   \n",
       "3    1859161    26/10/2021    25/10/2021    4  52.0   ปี    Thailand   \n",
       "4    1859162    26/10/2021    25/10/2021    4  84.0   ปี    Thailand   \n",
       "..       ...           ...           ...  ...   ...  ...         ...   \n",
       "195  1859353    26/10/2021    25/10/2021    2  12.0   ปี         N/A   \n",
       "196  1859354    26/10/2021    25/10/2021    2  38.0   ปี         N/A   \n",
       "197  1859355    26/10/2021    25/10/2021    2  25.0   ปี         N/A   \n",
       "198  1859356    26/10/2021    25/10/2021    4  16.0   ปี         N/A   \n",
       "199  1859357    26/10/2021    25/10/2021    2  63.0   ปี         N/A   \n",
       "\n",
       "     province_of_isolation                                           risk  \\\n",
       "0                       48                                          อื่นๆ   \n",
       "1                       48                                          อื่นๆ   \n",
       "2                       48  ไปสถานที่ชุมชน เช่น ตลาดนัด สถานที่ท่องเที่ยว   \n",
       "3                       48  ไปสถานที่ชุมชน เช่น ตลาดนัด สถานที่ท่องเที่ยว   \n",
       "4                       48    สัมผัสใกล้ชิดกับผู้ป่วยยืนยันรายก่อนหน้านี้   \n",
       "..                     ...                                            ...   \n",
       "195                     73    สัมผัสใกล้ชิดกับผู้ป่วยยืนยันรายก่อนหน้านี้   \n",
       "196                     73    สัมผัสใกล้ชิดกับผู้ป่วยยืนยันรายก่อนหน้านี้   \n",
       "197                     73                                   สถานที่ทำงาน   \n",
       "198                     73                                          อื่นๆ   \n",
       "199                     73    สัมผัสใกล้ชิดกับผู้ป่วยยืนยันรายก่อนหน้านี้   \n",
       "\n",
       "     province_of_onset  district_of_onset AgeGroup  \n",
       "0                  114               1903    Adult  \n",
       "1                  114               1903    Adult  \n",
       "2                  114               1565    Adult  \n",
       "3                  114               1565    Adult  \n",
       "4                  114               1903    Adult  \n",
       "..                 ...                ...      ...  \n",
       "195                179               1942      Kid  \n",
       "196                179               1367    Adult  \n",
       "197                179               2042    Adult  \n",
       "198                179               1367     Teen  \n",
       "199                179               1367    Adult  \n",
       "\n",
       "[200 rows x 12 columns]"
      ]
     },
     "execution_count": 33,
     "metadata": {},
     "output_type": "execute_result"
    }
   ],
   "source": [
    "df.head(200)"
   ]
  },
  {
   "cell_type": "code",
   "execution_count": 34,
   "id": "d854d7d0",
   "metadata": {},
   "outputs": [
    {
     "name": "stdout",
     "output_type": "stream",
     "text": [
      "Standard Deviation is 20.783484287696453 \n"
     ]
    }
   ],
   "source": [
    "data =df['age']\n",
    "print(\"Standard Deviation is % s \"%(statistics.stdev(data)))\n"
   ]
  },
  {
   "cell_type": "code",
   "execution_count": 35,
   "id": "da6ed163",
   "metadata": {},
   "outputs": [
    {
     "name": "stdout",
     "output_type": "stream",
     "text": [
      "Mean is 30.916426540861963 \n"
     ]
    }
   ],
   "source": [
    "data=df['age']\n",
    "statistics.mean(data)\n",
    "print(\"Mean is % s \" %(statistics.mean(data))) \n"
   ]
  },
  {
   "cell_type": "code",
   "execution_count": 36,
   "id": "604e9890",
   "metadata": {},
   "outputs": [
    {
     "name": "stdout",
     "output_type": "stream",
     "text": [
      "Standard Deviation is 23.10797914939335 \n"
     ]
    }
   ],
   "source": [
    "data =df['province_of_isolation']\n",
    "print(\"Standard Deviation is % s \"%(statistics.stdev(data)))"
   ]
  },
  {
   "cell_type": "code",
   "execution_count": 37,
   "id": "2fdb5a6e",
   "metadata": {},
   "outputs": [
    {
     "name": "stdout",
     "output_type": "stream",
     "text": [
      "Mean is 32.44101504868693 \n"
     ]
    }
   ],
   "source": [
    "data=df['province_of_isolation']\n",
    "statistics.mean(data)\n",
    "print(\"Mean is % s \" %(statistics.mean(data))) \n"
   ]
  },
  {
   "cell_type": "code",
   "execution_count": 38,
   "id": "215c0e49",
   "metadata": {},
   "outputs": [
    {
     "name": "stdout",
     "output_type": "stream",
     "text": [
      "Standard Deviation is 58.35285038199736 \n"
     ]
    }
   ],
   "source": [
    "data =df['province_of_onset']\n",
    "print(\"Standard Deviation is % s \"%(statistics.stdev(data)))"
   ]
  },
  {
   "cell_type": "code",
   "execution_count": 39,
   "id": "c7c27f2c",
   "metadata": {},
   "outputs": [
    {
     "name": "stdout",
     "output_type": "stream",
     "text": [
      "Mean is 69.73258315854952 \n"
     ]
    }
   ],
   "source": [
    "data=df['province_of_onset']\n",
    "statistics.mean(data)\n",
    "print(\"Mean is % s \" %(statistics.mean(data))) \n"
   ]
  },
  {
   "cell_type": "code",
   "execution_count": 40,
   "id": "a6bcd864",
   "metadata": {},
   "outputs": [
    {
     "name": "stdout",
     "output_type": "stream",
     "text": [
      "Standard Deviation is 710.1189908512282 \n"
     ]
    }
   ],
   "source": [
    "data =df['district_of_onset']\n",
    "print(\"Standard Deviation is % s \"%(statistics.stdev(data)))"
   ]
  },
  {
   "cell_type": "code",
   "execution_count": 41,
   "id": "fd9eea03",
   "metadata": {},
   "outputs": [
    {
     "name": "stdout",
     "output_type": "stream",
     "text": [
      "Mean is 1017.5602577496352 \n"
     ]
    }
   ],
   "source": [
    "data=df['district_of_onset']\n",
    "statistics.mean(data)\n",
    "print(\"Mean is % s \" %(statistics.mean(data))) \n"
   ]
  },
  {
   "cell_type": "code",
   "execution_count": 42,
   "id": "8e4929ca",
   "metadata": {},
   "outputs": [
    {
     "data": {
      "text/html": [
       "<div>\n",
       "<style scoped>\n",
       "    .dataframe tbody tr th:only-of-type {\n",
       "        vertical-align: middle;\n",
       "    }\n",
       "\n",
       "    .dataframe tbody tr th {\n",
       "        vertical-align: top;\n",
       "    }\n",
       "\n",
       "    .dataframe thead tr th {\n",
       "        text-align: left;\n",
       "    }\n",
       "\n",
       "    .dataframe thead tr:last-of-type th {\n",
       "        text-align: right;\n",
       "    }\n",
       "</style>\n",
       "<table border=\"1\" class=\"dataframe\">\n",
       "  <thead>\n",
       "    <tr>\n",
       "      <th></th>\n",
       "      <th colspan=\"2\" halign=\"left\">No.</th>\n",
       "      <th colspan=\"2\" halign=\"left\">sex</th>\n",
       "      <th colspan=\"2\" halign=\"left\">province_of_isolation</th>\n",
       "      <th colspan=\"2\" halign=\"left\">province_of_onset</th>\n",
       "      <th colspan=\"2\" halign=\"left\">district_of_onset</th>\n",
       "    </tr>\n",
       "    <tr>\n",
       "      <th></th>\n",
       "      <th>mean</th>\n",
       "      <th>sum</th>\n",
       "      <th>mean</th>\n",
       "      <th>sum</th>\n",
       "      <th>mean</th>\n",
       "      <th>sum</th>\n",
       "      <th>mean</th>\n",
       "      <th>sum</th>\n",
       "      <th>mean</th>\n",
       "      <th>sum</th>\n",
       "    </tr>\n",
       "    <tr>\n",
       "      <th>age</th>\n",
       "      <th></th>\n",
       "      <th></th>\n",
       "      <th></th>\n",
       "      <th></th>\n",
       "      <th></th>\n",
       "      <th></th>\n",
       "      <th></th>\n",
       "      <th></th>\n",
       "      <th></th>\n",
       "      <th></th>\n",
       "    </tr>\n",
       "  </thead>\n",
       "  <tbody>\n",
       "    <tr>\n",
       "      <th>0.00</th>\n",
       "      <td>2.133647e+06</td>\n",
       "      <td>133096911155</td>\n",
       "      <td>1.847547</td>\n",
       "      <td>115250</td>\n",
       "      <td>31.572571</td>\n",
       "      <td>1969497</td>\n",
       "      <td>43.260757</td>\n",
       "      <td>2698606</td>\n",
       "      <td>605.792914</td>\n",
       "      <td>37789362</td>\n",
       "    </tr>\n",
       "    <tr>\n",
       "      <th>0.58</th>\n",
       "      <td>2.076215e+06</td>\n",
       "      <td>2076215</td>\n",
       "      <td>4.000000</td>\n",
       "      <td>4</td>\n",
       "      <td>73.000000</td>\n",
       "      <td>73</td>\n",
       "      <td>179.000000</td>\n",
       "      <td>179</td>\n",
       "      <td>10.000000</td>\n",
       "      <td>10</td>\n",
       "    </tr>\n",
       "    <tr>\n",
       "      <th>0.92</th>\n",
       "      <td>2.419970e+06</td>\n",
       "      <td>2419970</td>\n",
       "      <td>2.000000</td>\n",
       "      <td>2</td>\n",
       "      <td>26.000000</td>\n",
       "      <td>26</td>\n",
       "      <td>62.000000</td>\n",
       "      <td>62</td>\n",
       "      <td>724.000000</td>\n",
       "      <td>724</td>\n",
       "    </tr>\n",
       "    <tr>\n",
       "      <th>1.00</th>\n",
       "      <td>2.149754e+06</td>\n",
       "      <td>14631224036</td>\n",
       "      <td>2.906259</td>\n",
       "      <td>19780</td>\n",
       "      <td>35.760799</td>\n",
       "      <td>243388</td>\n",
       "      <td>81.229210</td>\n",
       "      <td>552846</td>\n",
       "      <td>1099.363797</td>\n",
       "      <td>7482270</td>\n",
       "    </tr>\n",
       "    <tr>\n",
       "      <th>1.30</th>\n",
       "      <td>2.331834e+06</td>\n",
       "      <td>6995501</td>\n",
       "      <td>3.333333</td>\n",
       "      <td>10</td>\n",
       "      <td>46.000000</td>\n",
       "      <td>138</td>\n",
       "      <td>107.000000</td>\n",
       "      <td>321</td>\n",
       "      <td>1270.666667</td>\n",
       "      <td>3812</td>\n",
       "    </tr>\n",
       "    <tr>\n",
       "      <th>...</th>\n",
       "      <td>...</td>\n",
       "      <td>...</td>\n",
       "      <td>...</td>\n",
       "      <td>...</td>\n",
       "      <td>...</td>\n",
       "      <td>...</td>\n",
       "      <td>...</td>\n",
       "      <td>...</td>\n",
       "      <td>...</td>\n",
       "      <td>...</td>\n",
       "    </tr>\n",
       "    <tr>\n",
       "      <th>121.00</th>\n",
       "      <td>2.316436e+06</td>\n",
       "      <td>4632872</td>\n",
       "      <td>4.000000</td>\n",
       "      <td>8</td>\n",
       "      <td>24.000000</td>\n",
       "      <td>48</td>\n",
       "      <td>58.500000</td>\n",
       "      <td>117</td>\n",
       "      <td>644.500000</td>\n",
       "      <td>1289</td>\n",
       "    </tr>\n",
       "    <tr>\n",
       "      <th>149.00</th>\n",
       "      <td>2.273864e+06</td>\n",
       "      <td>2273864</td>\n",
       "      <td>4.000000</td>\n",
       "      <td>4</td>\n",
       "      <td>76.000000</td>\n",
       "      <td>76</td>\n",
       "      <td>186.000000</td>\n",
       "      <td>186</td>\n",
       "      <td>449.000000</td>\n",
       "      <td>449</td>\n",
       "    </tr>\n",
       "    <tr>\n",
       "      <th>158.00</th>\n",
       "      <td>2.242008e+06</td>\n",
       "      <td>2242008</td>\n",
       "      <td>2.000000</td>\n",
       "      <td>2</td>\n",
       "      <td>10.000000</td>\n",
       "      <td>10</td>\n",
       "      <td>23.000000</td>\n",
       "      <td>23</td>\n",
       "      <td>663.000000</td>\n",
       "      <td>663</td>\n",
       "    </tr>\n",
       "    <tr>\n",
       "      <th>330.00</th>\n",
       "      <td>2.434821e+06</td>\n",
       "      <td>2434821</td>\n",
       "      <td>4.000000</td>\n",
       "      <td>4</td>\n",
       "      <td>56.000000</td>\n",
       "      <td>56</td>\n",
       "      <td>131.000000</td>\n",
       "      <td>131</td>\n",
       "      <td>1913.000000</td>\n",
       "      <td>1913</td>\n",
       "    </tr>\n",
       "    <tr>\n",
       "      <th>2021.00</th>\n",
       "      <td>2.252849e+06</td>\n",
       "      <td>2252849</td>\n",
       "      <td>4.000000</td>\n",
       "      <td>4</td>\n",
       "      <td>73.000000</td>\n",
       "      <td>73</td>\n",
       "      <td>179.000000</td>\n",
       "      <td>179</td>\n",
       "      <td>2063.000000</td>\n",
       "      <td>2063</td>\n",
       "    </tr>\n",
       "  </tbody>\n",
       "</table>\n",
       "<p>1162 rows × 10 columns</p>\n",
       "</div>"
      ],
      "text/plain": [
       "                  No.                     sex         province_of_isolation  \\\n",
       "                 mean           sum      mean     sum                  mean   \n",
       "age                                                                           \n",
       "0.00     2.133647e+06  133096911155  1.847547  115250             31.572571   \n",
       "0.58     2.076215e+06       2076215  4.000000       4             73.000000   \n",
       "0.92     2.419970e+06       2419970  2.000000       2             26.000000   \n",
       "1.00     2.149754e+06   14631224036  2.906259   19780             35.760799   \n",
       "1.30     2.331834e+06       6995501  3.333333      10             46.000000   \n",
       "...               ...           ...       ...     ...                   ...   \n",
       "121.00   2.316436e+06       4632872  4.000000       8             24.000000   \n",
       "149.00   2.273864e+06       2273864  4.000000       4             76.000000   \n",
       "158.00   2.242008e+06       2242008  2.000000       2             10.000000   \n",
       "330.00   2.434821e+06       2434821  4.000000       4             56.000000   \n",
       "2021.00  2.252849e+06       2252849  4.000000       4             73.000000   \n",
       "\n",
       "                 province_of_onset          district_of_onset            \n",
       "             sum              mean      sum              mean       sum  \n",
       "age                                                                      \n",
       "0.00     1969497         43.260757  2698606        605.792914  37789362  \n",
       "0.58          73        179.000000      179         10.000000        10  \n",
       "0.92          26         62.000000       62        724.000000       724  \n",
       "1.00      243388         81.229210   552846       1099.363797   7482270  \n",
       "1.30         138        107.000000      321       1270.666667      3812  \n",
       "...          ...               ...      ...               ...       ...  \n",
       "121.00        48         58.500000      117        644.500000      1289  \n",
       "149.00        76        186.000000      186        449.000000       449  \n",
       "158.00        10         23.000000       23        663.000000       663  \n",
       "330.00        56        131.000000      131       1913.000000      1913  \n",
       "2021.00       73        179.000000      179       2063.000000      2063  \n",
       "\n",
       "[1162 rows x 10 columns]"
      ]
     },
     "execution_count": 42,
     "metadata": {},
     "output_type": "execute_result"
    }
   ],
   "source": [
    "df.groupby(['age']).agg(['mean','sum'])"
   ]
  },
  {
   "cell_type": "code",
   "execution_count": 43,
   "id": "c1a8f384",
   "metadata": {},
   "outputs": [
    {
     "data": {
      "text/plain": [
       "<AxesSubplot:>"
      ]
     },
     "execution_count": 43,
     "metadata": {},
     "output_type": "execute_result"
    },
    {
     "data": {
      "image/png": "[encoded data removed]",
      "text/plain": [
       "<Figure size 720x576 with 2 Axes>"
      ]
     },
     "metadata": {
      "needs_background": "light"
     },
     "output_type": "display_data"
    }
   ],
   "source": [
    "fi, axis = plt.subplots(figsize=(10, 8))\n",
    "corr = df.corr()\n",
    "sns.heatmap(corr, mask=np.zeros_like(corr, dtype=np.bool), cmap=sns.diverging_palette(200,10,as_cmap=True),square=True, ax=axis)"
   ]
  },
  {
   "cell_type": "code",
   "execution_count": 44,
   "id": "1805e36c",
   "metadata": {
    "scrolled": true
   },
   "outputs": [
    {
     "data": {
      "image/png": "[encoded data removed]",
      "text/plain": [
       "<Figure size 864x576 with 1 Axes>"
      ]
     },
     "metadata": {
      "needs_background": "light"
     },
     "output_type": "display_data"
    }
   ],
   "source": [
    "import seaborn as sns\n",
    "plt.subplots(figsize=(12, 8))\n",
    "sns.set(font_scale=1.2)\n",
    "ax = sns.scatterplot(x=\"province_of_isolation\", \n",
    "y=\"age\", data=df)"
   ]
  },
  {
   "cell_type": "code",
   "execution_count": 45,
   "id": "fff4b4f4",
   "metadata": {},
   "outputs": [
    {
     "data": {
      "image/png": "[encoded data removed]",
      "text/plain": [
       "<Figure size 864x576 with 1 Axes>"
      ]
     },
     "metadata": {},
     "output_type": "display_data"
    }
   ],
   "source": [
    "import seaborn as sns\n",
    "plt.subplots(figsize=(12, 8))\n",
    "sns.set(font_scale=1.2)\n",
    "ax = sns.scatterplot(x=\"province_of_onset\", \n",
    "y=\"age\", data=df)"
   ]
  },
  {
   "cell_type": "code",
   "execution_count": 46,
   "id": "54a414a8",
   "metadata": {},
   "outputs": [
    {
     "data": {
      "image/png": "[encoded data removed]",
      "text/plain": [
       "<Figure size 432x288 with 1 Axes>"
      ]
     },
     "metadata": {},
     "output_type": "display_data"
    }
   ],
   "source": [
    "plt.hist(df.age, bins='auto') \n",
    "plt.title(\"The histogram show the age data\")\n",
    "plt.xlabel('age')\n",
    "plt.ylabel('frequencies')\n",
    "plt.show()"
   ]
  },
  {
   "cell_type": "code",
   "execution_count": 47,
   "id": "066afa69",
   "metadata": {
    "scrolled": true
   },
   "outputs": [
    {
     "data": {
      "text/plain": [
       "Text(0.5, 1.0, 'The histogram showing the distribution of age')"
      ]
     },
     "execution_count": 47,
     "metadata": {},
     "output_type": "execute_result"
    },
    {
     "data": {
      "image/png": "[encoded data removed]",
      "text/plain": [
       "<Figure size 432x288 with 1 Axes>"
      ]
     },
     "metadata": {},
     "output_type": "display_data"
    }
   ],
   "source": [
    "sns.distplot(df.age)\n",
    "plt.title(\"The histogram showing the distribution of age\")"
   ]
  }
 ],
 "metadata": {
  "kernelspec": {
   "display_name": "Python 3 (ipykernel)",
   "language": "python",
   "name": "python3"
  },
  "language_info": {
   "codemirror_mode": {
    "name": "ipython",
    "version": 3
   },
   "file_extension": ".py",
   "mimetype": "text/x-python",
   "name": "python",
   "nbconvert_exporter": "python",
   "pygments_lexer": "ipython3",
   "version": "3.9.7"
  }
 },
 "nbformat": 4,
 "nbformat_minor": 5
}
